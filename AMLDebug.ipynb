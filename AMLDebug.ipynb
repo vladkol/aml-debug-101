{
  "cells": [
    {
      "cell_type": "markdown",
      "source": [
        "# Azure ML Remote Debugging 101"
      ],
      "metadata": {
        "nteract": {
          "transient": {
            "deleting": false
          }
        }
      }
    },
    {
      "cell_type": "markdown",
      "source": [
        "## Get workspace \n",
        "\n",
        "**Always run this cell!**\n",
        "\n",
        "Before running:\n",
        "\n",
        "1. For authentication, run `az login` in terminal (requires Azure CLI).\n",
        "2. Download `config.json` file from your workspace to the root of this repo (next to this notebook).\n",
        "\n",
        "To download `config.json` file, when in ML Studio (ml.azure.com), click on you subscription name (upper-right corner), and choose \"**Download config file**\"."
      ],
      "metadata": {
        "nteract": {
          "transient": {
            "deleting": false
          }
        }
      }
    },
    {
      "cell_type": "code",
      "execution_count": null,
      "metadata": {},
      "outputs": [],
      "source": [
        "from azureml.core import Workspace\n",
        "\n",
        "workspace = Workspace.from_config()\n",
        "print(workspace)"
      ]
    },
    {
      "source": [
        "## Get Dataset\n",
        "\n",
        "Create any Azure ML file dataset before that!"
      ],
      "cell_type": "markdown",
      "metadata": {}
    },
    {
      "cell_type": "code",
      "source": [
        "\n",
        "from azureml.core import Datastore\n",
        "from azureml.core import Dataset\n",
        "\n",
        "dataset_name = 'mnist-dataset' # Choose an existing dataset to use\n",
        "\n",
        "dataset = Dataset.get_by_name(workspace, dataset_name, version='latest')\n",
        "print(dataset)"
      ],
      "outputs": [],
      "execution_count": null,
      "metadata": {
        "gather": {
          "logged": 1620275824505
        }
      }
    },
    {
      "cell_type": "markdown",
      "source": [
        "## Load workspace parameters"
      ],
      "metadata": {
        "nteract": {
          "transient": {
            "deleting": false
          }
        }
      }
    },
    {
      "cell_type": "code",
      "source": [
        "from dotenv import load_dotenv\n",
        "\n",
        "load_dotenv()\n",
        "\n",
        "# Must be an exisiting Azure ML compute - create an Azure ML compute instance or an Azure ML Compute Cluster.\n",
        "compute_name = os.environ.get(\"COMPUTE_NAME\") \n",
        "\n",
        "pipeline_name = os.environ.get(\"PIPELINE_NAME\")\n",
        "debug_connection_string = os.environ.get(\"DEBUG_GLOBAL_AZRELAY_CONNECTION_STRING\")\n",
        "debug_connection_string_secret_name = os.environ.get(\"DEBUG_GLOBAL_CONNECTION_SECRET_NAME\")\n",
        "\n",
        "# putting secrets to keyvault\n",
        "workspace.get_default_keyvault().set_secret(\n",
        "    debug_connection_string_secret_name, debug_connection_string)\n",
        "\n",
        "print(\"Pipeline name: \" + pipeline_name)\n"
      ],
      "outputs": [],
      "execution_count": null,
      "metadata": {
        "collapsed": true,
        "jupyter": {
          "source_hidden": false,
          "outputs_hidden": false
        },
        "nteract": {
          "transient": {
            "deleting": false
          }
        },
        "gather": {
          "logged": 1620276354781
        }
      }
    },
    {
      "cell_type": "markdown",
      "source": [
        "## Retrieve compute (existing)"
      ],
      "metadata": {
        "nteract": {
          "transient": {
            "deleting": false
          }
        }
      }
    },
    {
      "cell_type": "code",
      "source": [
        "compute_target = workspace.compute_targets[compute_name]\n",
        "print(compute_target)"
      ],
      "outputs": [],
      "execution_count": null,
      "metadata": {
        "collapsed": true,
        "jupyter": {
          "source_hidden": false,
          "outputs_hidden": false
        },
        "nteract": {
          "transient": {
            "deleting": false
          }
        },
        "gather": {
          "logged": 1620276081061
        }
      }
    },
    {
      "cell_type": "markdown",
      "source": [
        "## Initialize Environment with debugging dependencies"
      ],
      "metadata": {
        "nteract": {
          "transient": {
            "deleting": false
          }
        }
      }
    },
    {
      "cell_type": "code",
      "source": [
        "from azureml.core.runconfig import Environment, CondaDependencies\n",
        "\n",
        "batch_conda_deps = CondaDependencies.create(\n",
        "        conda_packages=[],\n",
        "        pip_packages=[\n",
        "            'argparse==1.4.0',\n",
        "            'azureml-core==1.22.0',\n",
        "            'debugpy==1.2.1',\n",
        "            'azure-debug-relay==0.5.1'\n",
        "        ])\n",
        "batch_env = Environment(name=\"train-env\")\n",
        "batch_env.docker.enabled = True\n",
        "batch_env.python.conda_dependencies = batch_conda_deps\n",
        "print(\"Environment has been created\")"
      ],
      "outputs": [],
      "execution_count": null,
      "metadata": {
        "collapsed": true,
        "jupyter": {
          "source_hidden": false,
          "outputs_hidden": false
        },
        "nteract": {
          "transient": {
            "deleting": false
          }
        },
        "gather": {
          "logged": 1620276084844
        }
      }
    },
    {
      "cell_type": "markdown",
      "source": [
        "## Define debugging parameters"
      ],
      "metadata": {
        "nteract": {
          "transient": {
            "deleting": false
          }
        }
      }
    },
    {
      "cell_type": "code",
      "source": [
        "from azureml.pipeline.core import PipelineParameter\n",
        "\n",
        "# Pipeline parameters to use with every run\n",
        "is_debug = PipelineParameter(\"is_debug\", default_value=False)\n",
        "relay_connection_name = PipelineParameter(\n",
        "    \"debug_relay_connection_name\", default_value=\"none\")"
      ],
      "outputs": [],
      "execution_count": null,
      "metadata": {
        "collapsed": true,
        "jupyter": {
          "source_hidden": false,
          "outputs_hidden": false
        },
        "nteract": {
          "transient": {
            "deleting": false
          }
        },
        "gather": {
          "logged": 1620276087783
        }
      }
    },
    {
      "cell_type": "markdown",
      "source": [
        "## Create a PythonScriptStep"
      ],
      "metadata": {
        "nteract": {
          "transient": {
            "deleting": false
          }
        }
      }
    },
    {
      "cell_type": "code",
      "source": [
        "from azureml.core.runconfig import Environment, CondaDependencies\n",
        "from azureml.pipeline.steps import PythonScriptStep\n",
        "from azureml.core import RunConfiguration\n",
        "\n",
        "single_step_config = RunConfiguration()\n",
        "single_step_config.environment = batch_env\n",
        "\n",
        "single_step = PythonScriptStep(\n",
        "    name=f\"basic-step\",\n",
        "    script_name=\"steps/basic_step.py\",\n",
        "    source_directory=\".\",\n",
        "    runconfig=single_step_config,\n",
        "    arguments=[\n",
        "        \"--dataset\", dataset.as_mount(),\n",
        "        \"--is-debug\", is_debug, # pipeline parameter\n",
        "        \"--debug-relay-connection-name\", relay_connection_name, # pipeline parameter\n",
        "        \"--debug-port\", 5678,\n",
        "        \"--debug-relay-connection-string-secret\", debug_connection_string_secret_name\n",
        "    ],\n",
        "    compute_target=compute_target,\n",
        "    allow_reuse=False\n",
        ")"
      ],
      "outputs": [],
      "execution_count": null,
      "metadata": {
        "collapsed": true,
        "jupyter": {
          "source_hidden": false,
          "outputs_hidden": false
        },
        "nteract": {
          "transient": {
            "deleting": false
          }
        },
        "gather": {
          "logged": 1620276154925
        }
      }
    },
    {
      "cell_type": "markdown",
      "source": [
        "## Create and publish a pipeline"
      ],
      "metadata": {
        "nteract": {
          "transient": {
            "deleting": false
          }
        }
      }
    },
    {
      "cell_type": "code",
      "source": [
        "from azureml.pipeline.core import Pipeline\n",
        "\n",
        "steps = [\n",
        "        single_step\n",
        "    ]\n",
        "\n",
        "train_pipeline = Pipeline(workspace=workspace, steps=steps)\n",
        "train_pipeline.validate()\n",
        "published_pipeline = train_pipeline.publish(\n",
        "    name=pipeline_name,\n",
        "    description=\"Model training/retraining pipeline\")\n",
        "\n",
        "published_pipeline_id = published_pipeline.id\n",
        "print(\"Published pipeline: \" + published_pipeline.id)\n"
      ],
      "outputs": [],
      "execution_count": null,
      "metadata": {
        "collapsed": true,
        "jupyter": {
          "source_hidden": false,
          "outputs_hidden": false
        },
        "nteract": {
          "transient": {
            "deleting": false
          }
        }
      }
    },
    {
      "cell_type": "markdown",
      "source": [
        "## Run published pipeline"
      ],
      "metadata": {
        "nteract": {
          "transient": {
            "deleting": false
          }
        }
      }
    },
    {
      "cell_type": "code",
      "source": [
        "from azureml.pipeline.core import PublishedPipeline\n",
        "from azureml.core.experiment import Experiment\n",
        "\n",
        "if published_pipeline_id is None:\n",
        "    raise ValueError(\"Initialize published_pipeline_id\")\n",
        "\n",
        "is_debug = True\n",
        "debug_relay_connection_name = \"test\"\n",
        "\n",
        "pipeline_parameters = {\n",
        "        \"is_debug\": is_debug\n",
        "        }\n",
        "if is_debug:\n",
        "    if debug_relay_connection_name == \"\":\n",
        "        raise ValueError(\"Hybrid connection name cannot be empty!\")\n",
        "\n",
        "    pipeline_parameters.update({\n",
        "        \"debug_relay_connection_name\": debug_relay_connection_name\n",
        "        })\n",
        "\n",
        "experiment=Experiment(workspace, \"Pipeline_debug_experiment\")\n",
        "published_pipeline = PublishedPipeline.get(workspace=workspace, id=published_pipeline_id)\n",
        "experiment.submit(published_pipeline, pipeline_parameters=pipeline_parameters)\n"
      ],
      "outputs": [],
      "execution_count": null,
      "metadata": {
        "collapsed": true,
        "jupyter": {
          "source_hidden": false,
          "outputs_hidden": false
        },
        "nteract": {
          "transient": {
            "deleting": false
          }
        }
      }
    }
  ],
  "metadata": {
    "kernelspec": {
      "name": "python38764bit6d143ba34a46471b94c361d1019ff5f4",
      "display_name": "Python 3.8.7 64-bit"
    },
    "language_info": {
      "name": "python",
      "version": "3.8.7",
      "mimetype": "text/x-python",
      "codemirror_mode": {
        "name": "ipython",
        "version": 3
      },
      "pygments_lexer": "ipython3",
      "nbconvert_exporter": "python",
      "file_extension": ".py"
    },
    "nteract": {
      "version": "nteract-front-end@1.0.0"
    },
    "kernel_info": {
      "name": "python3-azureml"
    },
    "microsoft": {
      "host": {
        "AzureML": {
          "notebookHasBeenCompleted": true
        }
      }
    },
    "metadata": {
      "interpreter": {
        "hash": "082e9a3bcad0a290d0001e938aa60b99250c6c2ef33a923c00b70f9826caf4b7"
      }
    }
  },
  "nbformat": 4,
  "nbformat_minor": 2
}